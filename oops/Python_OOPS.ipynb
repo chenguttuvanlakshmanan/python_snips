{
 "cells": [
  {
   "cell_type": "markdown",
   "source": [
    "## Classes Introduction"
   ],
   "metadata": {}
  },
  {
   "cell_type": "code",
   "execution_count": 35,
   "source": [
    "class Myclass:\r\n",
    "\r\n",
    "    classvalue= \"superba\"\r\n",
    "\r\n",
    "    def __init__(self,name):\r\n",
    "        self.name = name\r\n",
    "\r\n",
    "    def printname(self):\r\n",
    "        print(\"Name: \",self.name)"
   ],
   "outputs": [],
   "metadata": {}
  },
  {
   "cell_type": "code",
   "execution_count": 33,
   "source": [
    "print(type(Myclass))"
   ],
   "outputs": [
    {
     "output_type": "stream",
     "name": "stdout",
     "text": [
      "<class 'type'>\n"
     ]
    }
   ],
   "metadata": {}
  },
  {
   "cell_type": "code",
   "execution_count": 38,
   "source": [
    "c1 = Myclass(\"cheng\")\r\n",
    "print(type(c1))\r\n",
    "print(id(c1))\r\n",
    "d1 = 10\r\n",
    "print(type(d1))\r\n",
    "print(id(d1))"
   ],
   "outputs": [
    {
     "output_type": "stream",
     "name": "stdout",
     "text": [
      "<class '__main__.Myclass'>\n",
      "1497782725040\n",
      "<class 'int'>\n",
      "140735718143088\n"
     ]
    }
   ],
   "metadata": {}
  },
  {
   "cell_type": "code",
   "execution_count": 5,
   "source": [
    "c1.name"
   ],
   "outputs": [
    {
     "output_type": "execute_result",
     "data": {
      "text/plain": [
       "'cheng'"
      ]
     },
     "metadata": {},
     "execution_count": 5
    }
   ],
   "metadata": {}
  },
  {
   "cell_type": "code",
   "execution_count": 6,
   "source": [
    "c1.classvalue"
   ],
   "outputs": [
    {
     "output_type": "execute_result",
     "data": {
      "text/plain": [
       "'superba'"
      ]
     },
     "metadata": {},
     "execution_count": 6
    }
   ],
   "metadata": {}
  },
  {
   "cell_type": "markdown",
   "source": [
    "### we can control the value assigned to the variable below title instance assigment controlled by list Titles"
   ],
   "metadata": {}
  },
  {
   "cell_type": "code",
   "execution_count": 44,
   "source": [
    "class Person:\r\n",
    "    TITLES = ('Dr', 'Mr', 'Mrs', 'Ms')\r\n",
    "    def __init__(self, title, name, surname, allowed_titles=TITLES):\r\n",
    "        if title not in allowed_titles:\r\n",
    "            raise ValueError(\"%s is not a valid title.\" % title)\r\n",
    "        self.title = title\r\n",
    "        self.name = name\r\n",
    "        self.surname = surname"
   ],
   "outputs": [],
   "metadata": {}
  },
  {
   "cell_type": "code",
   "execution_count": 48,
   "source": [
    "class PrivateVar:\r\n",
    "\r\n",
    "    def __init__(self,a,b):\r\n",
    "        self.a = a\r\n",
    "        self.b = b\r\n",
    "        \r\n",
    "    def mysum(self):\r\n",
    "        self._c = self.a + self.b\r\n",
    "     "
   ],
   "outputs": [],
   "metadata": {}
  },
  {
   "cell_type": "code",
   "execution_count": 53,
   "source": [
    "c1 = PrivateVar(3,4)\r\n",
    "print(c1.a)\r\n",
    "print(c1.b)\r\n",
    "c1.mysum()\r\n",
    "print(c1._c)\r\n",
    "c1.__dict__"
   ],
   "outputs": [
    {
     "output_type": "stream",
     "name": "stdout",
     "text": [
      "3\n",
      "4\n",
      "7\n"
     ]
    },
    {
     "output_type": "execute_result",
     "data": {
      "text/plain": [
       "{'a': 3, 'b': 4, '_c': 7}"
      ]
     },
     "metadata": {},
     "execution_count": 53
    }
   ],
   "metadata": {}
  },
  {
   "cell_type": "markdown",
   "source": [
    "## Inheritance"
   ],
   "metadata": {}
  },
  {
   "cell_type": "code",
   "execution_count": 8,
   "source": [
    "class Newclass(Myclass):\r\n",
    "\r\n",
    "    def __init__(self, name,age):\r\n",
    "        super().__init__(name)\r\n",
    "        self.age = age\r\n",
    "\r\n",
    "    def printClass(self):\r\n",
    "        super().printname()\r\n"
   ],
   "outputs": [],
   "metadata": {}
  },
  {
   "cell_type": "code",
   "execution_count": 9,
   "source": [
    "n1  = Newclass(\"cheng\",42)"
   ],
   "outputs": [],
   "metadata": {}
  },
  {
   "cell_type": "code",
   "execution_count": 10,
   "source": [
    "n1.age"
   ],
   "outputs": [
    {
     "output_type": "execute_result",
     "data": {
      "text/plain": [
       "42"
      ]
     },
     "metadata": {},
     "execution_count": 10
    }
   ],
   "metadata": {}
  },
  {
   "cell_type": "code",
   "execution_count": 11,
   "source": [
    "n1.name"
   ],
   "outputs": [
    {
     "output_type": "execute_result",
     "data": {
      "text/plain": [
       "'cheng'"
      ]
     },
     "metadata": {},
     "execution_count": 11
    }
   ],
   "metadata": {}
  },
  {
   "cell_type": "code",
   "execution_count": 12,
   "source": [
    "n1.printClass()"
   ],
   "outputs": [
    {
     "output_type": "stream",
     "name": "stdout",
     "text": [
      "Name:  cheng\n"
     ]
    }
   ],
   "metadata": {}
  },
  {
   "cell_type": "code",
   "execution_count": 13,
   "source": [
    "# Some magic methods"
   ],
   "outputs": [],
   "metadata": {}
  },
  {
   "cell_type": "code",
   "execution_count": 14,
   "source": [
    "n1.__str__()"
   ],
   "outputs": [
    {
     "output_type": "execute_result",
     "data": {
      "text/plain": [
       "'<__main__.Newclass object at 0x0000015CBACB3A58>'"
      ]
     },
     "metadata": {},
     "execution_count": 14
    }
   ],
   "metadata": {}
  },
  {
   "cell_type": "code",
   "execution_count": 15,
   "source": [
    "n1.__repr__()"
   ],
   "outputs": [
    {
     "output_type": "execute_result",
     "data": {
      "text/plain": [
       "'<__main__.Newclass object at 0x0000015CBACB3A58>'"
      ]
     },
     "metadata": {},
     "execution_count": 15
    }
   ],
   "metadata": {}
  },
  {
   "cell_type": "code",
   "execution_count": 17,
   "source": [
    "n1.__dict__"
   ],
   "outputs": [
    {
     "output_type": "execute_result",
     "data": {
      "text/plain": [
       "{'name': 'cheng', 'age': 42}"
      ]
     },
     "metadata": {},
     "execution_count": 17
    }
   ],
   "metadata": {}
  },
  {
   "cell_type": "code",
   "execution_count": 20,
   "source": [
    "n1.__class__"
   ],
   "outputs": [
    {
     "output_type": "execute_result",
     "data": {
      "text/plain": [
       "__main__.Newclass"
      ]
     },
     "metadata": {},
     "execution_count": 20
    }
   ],
   "metadata": {}
  },
  {
   "cell_type": "code",
   "execution_count": 21,
   "source": [
    "## this will check the instance of parent class also\r\n",
    "isinstance(n1,Myclass)"
   ],
   "outputs": [
    {
     "output_type": "execute_result",
     "data": {
      "text/plain": [
       "True"
      ]
     },
     "metadata": {},
     "execution_count": 21
    }
   ],
   "metadata": {}
  },
  {
   "cell_type": "markdown",
   "source": [
    "## Some Class Decorators"
   ],
   "metadata": {}
  },
  {
   "cell_type": "code",
   "execution_count": null,
   "source": [
    "##  classmethod use cls to refer the class\r\n",
    "\r\n",
    "class Deco:\r\n",
    "\r\n",
    "    def __init__(self,name):\r\n",
    "        self.name = name\r\n",
    "\r\n",
    "    @classmethod\r\n",
    "    def createObject(cls,name):\r\n",
    "        return cls(name)\r\n"
   ],
   "outputs": [],
   "metadata": {}
  },
  {
   "cell_type": "code",
   "execution_count": null,
   "source": [
    "n2 = Deco.createObject(\"cheng\")"
   ],
   "outputs": [],
   "metadata": {}
  },
  {
   "cell_type": "code",
   "execution_count": null,
   "source": [
    "n2.name"
   ],
   "outputs": [
    {
     "output_type": "execute_result",
     "data": {
      "text/plain": [
       "'cheng'"
      ]
     },
     "metadata": {},
     "execution_count": 33
    }
   ],
   "metadata": {}
  },
  {
   "cell_type": "code",
   "execution_count": null,
   "source": [
    "class Sdeco:\r\n",
    "\r\n",
    "    @staticmethod\r\n",
    "    def printme():\r\n",
    "        print(\" i am static method of a class\")"
   ],
   "outputs": [],
   "metadata": {}
  },
  {
   "cell_type": "code",
   "execution_count": null,
   "source": [
    "Sdeco.printme()"
   ],
   "outputs": [
    {
     "output_type": "stream",
     "name": "stdout",
     "text": [
      " i am static method of a class\n"
     ]
    }
   ],
   "metadata": {}
  },
  {
   "cell_type": "code",
   "execution_count": 23,
   "source": [
    "class Properydemo:\r\n",
    "\r\n",
    "    def __init__(self,name):\r\n",
    "        self.name = name\r\n",
    "\r\n",
    "    @property\r\n",
    "    def printname(self):\r\n",
    "        print(self.name)\r\n"
   ],
   "outputs": [],
   "metadata": {}
  },
  {
   "cell_type": "code",
   "execution_count": 24,
   "source": [
    "n2 = Properydemo(\"cheng\")"
   ],
   "outputs": [],
   "metadata": {}
  },
  {
   "cell_type": "code",
   "execution_count": 25,
   "source": [
    "n2.printname"
   ],
   "outputs": [
    {
     "output_type": "stream",
     "name": "stdout",
     "text": [
      "cheng\n"
     ]
    }
   ],
   "metadata": {}
  },
  {
   "cell_type": "code",
   "execution_count": 27,
   "source": [
    "## using propert decorator we can define the setter,getter and deleter methods for the variable\r\n",
    "\r\n",
    "class Person:\r\n",
    "\r\n",
    "    def __init__(self, name, surname):\r\n",
    "        self.name = name\r\n",
    "        self.surname = surname\r\n",
    "\r\n",
    "    @property\r\n",
    "    def fullname(self):\r\n",
    "        return \"%s %s\" % (self.name, self.surname)\r\n",
    "\r\n",
    "    @fullname.setter\r\n",
    "    def fullname(self, value):\r\n",
    "    # this is much more complicated in real life\r\n",
    "        name, surname = value.split(\" \", 1)\r\n",
    "        self.name = name\r\n",
    "        self.surname = surname\r\n",
    "\r\n",
    "    @fullname.deleter\r\n",
    "    def fullname(self):\r\n",
    "        del self.name\r\n",
    "        del self.surname\r\n"
   ],
   "outputs": [],
   "metadata": {}
  },
  {
   "cell_type": "code",
   "execution_count": 28,
   "source": [
    "jane = Person(\"Jane\", \"Smith\")\r\n",
    "print(jane.fullname)\r\n",
    "jane.fullname = \"Jane Doe\"\r\n",
    "print(jane.fullname)\r\n",
    "print(jane.name)\r\n",
    "print(jane.surname)"
   ],
   "outputs": [
    {
     "output_type": "stream",
     "name": "stdout",
     "text": [
      "Jane Smith\n",
      "Jane Doe\n",
      "Jane\n",
      "Doe\n"
     ]
    }
   ],
   "metadata": {}
  },
  {
   "cell_type": "code",
   "execution_count": 54,
   "source": [
    "class Person:\r\n",
    "    pets = []\r\n",
    "    def add_pet(self, pet):\r\n",
    "        self.pets.append(pet)\r\n",
    "\r\n",
    "jane = Person()\r\n",
    "bob = Person()\r\n",
    "\r\n",
    "jane.add_pet(\"cat\")\r\n",
    "print(jane.pets)\r\n",
    "print(bob.pets) "
   ],
   "outputs": [
    {
     "output_type": "stream",
     "name": "stdout",
     "text": [
      "['cat']\n",
      "['cat']\n"
     ]
    }
   ],
   "metadata": {}
  }
 ],
 "metadata": {
  "orig_nbformat": 4,
  "language_info": {
   "name": "python",
   "version": "3.7.1",
   "mimetype": "text/x-python",
   "codemirror_mode": {
    "name": "ipython",
    "version": 3
   },
   "pygments_lexer": "ipython3",
   "nbconvert_exporter": "python",
   "file_extension": ".py"
  },
  "kernelspec": {
   "name": "python3",
   "display_name": "Python 3.7.1 64-bit"
  },
  "interpreter": {
   "hash": "d42fbc40e29d50d9f153c9590214ec02a0c45bd0bd976a7107ec96a86ba54e82"
  }
 },
 "nbformat": 4,
 "nbformat_minor": 2
}